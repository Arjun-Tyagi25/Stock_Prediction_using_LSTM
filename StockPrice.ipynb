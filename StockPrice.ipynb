{
  "nbformat": 4,
  "nbformat_minor": 0,
  "metadata": {
    "colab": {
      "name": "StockPrice.ipynb",
      "provenance": [],
      "collapsed_sections": []
    },
    "kernelspec": {
      "name": "python3",
      "display_name": "Python 3"
    },
    "accelerator": "GPU"
  },
  "cells": [
    {
      "cell_type": "code",
      "metadata": {
        "id": "l4qVyw-QZJrt",
        "colab_type": "code",
        "colab": {}
      },
      "source": [
        "import numpy\n",
        "import pandas as pd\n",
        "import matplotlib.pyplot as plt\n",
        "from sklearn.preprocessing import MinMaxScaler\n",
        "import tensorflow as tf\n",
        "from tensorflow.keras.models import Sequential\n",
        "from tensorflow.keras.layers import Dense\n",
        "from tensorflow.keras.layers import LSTM\n",
        "import math\n",
        "from sklearn.metrics import mean_squared_error"
      ],
      "execution_count": null,
      "outputs": []
    },
    {
      "cell_type": "code",
      "metadata": {
        "id": "pr6-urKzZasE",
        "colab_type": "code",
        "colab": {}
      },
      "source": [
        "df = pd.read_csv('HEROMOTOCO.csv')"
      ],
      "execution_count": 159,
      "outputs": []
    },
    {
      "cell_type": "code",
      "metadata": {
        "id": "0-1LieypWBYk",
        "colab_type": "code",
        "colab": {}
      },
      "source": [
        "for i in range(len(df)):\n",
        "  if numpy.isnan(df.at[i, 'Close']):\n",
        "    df.drop(i, axis = 0, inplace = True)"
      ],
      "execution_count": 160,
      "outputs": []
    },
    {
      "cell_type": "code",
      "metadata": {
        "id": "CeMhmlLIeu2J",
        "colab_type": "code",
        "colab": {
          "base_uri": "https://localhost:8080/",
          "height": 126
        },
        "outputId": "9c52ea61-407a-484e-81ac-abc0c26529b2"
      },
      "source": [
        "DF = df['Open']\n",
        "DF.head()"
      ],
      "execution_count": null,
      "outputs": [
        {
          "output_type": "execute_result",
          "data": {
            "text/plain": [
              "0    1845.00\n",
              "1    1820.00\n",
              "2    1821.25\n",
              "3    1803.75\n",
              "4    1851.00\n",
              "Name: Open, dtype: float64"
            ]
          },
          "metadata": {
            "tags": []
          },
          "execution_count": 136
        }
      ]
    },
    {
      "cell_type": "code",
      "metadata": {
        "id": "7MkFZzhAIxbN",
        "colab_type": "code",
        "colab": {}
      },
      "source": [
        "scale = MinMaxScaler(feature_range=(0,1))\n",
        "DF = scale.fit_transform(numpy.array(DF).reshape(-1,1))"
      ],
      "execution_count": null,
      "outputs": []
    },
    {
      "cell_type": "code",
      "metadata": {
        "id": "stHL3mmlIfOu",
        "colab_type": "code",
        "colab": {}
      },
      "source": [
        "valid_percent = 0.15\n",
        "test_percent = 0.15\n",
        "train_percent = 1 - (valid_percent + test_percent)\n",
        "\n",
        "L = len(DF)\n",
        "\n",
        "train_size = int(train_percent * L)\n",
        "valid_size = int(valid_percent * L)\n",
        "test_size = int(test_percent * L)\n",
        "\n",
        "train_data = DF[0:train_size,:]\n",
        "valid_data = DF[train_size:train_size + valid_size, :]\n",
        "test_data = DF[train_size + valid_size:train_size + valid_size + test_size, :]"
      ],
      "execution_count": null,
      "outputs": []
    },
    {
      "cell_type": "code",
      "metadata": {
        "id": "vQJd5Il_PEuQ",
        "colab_type": "code",
        "colab": {}
      },
      "source": [
        "def create_inout_sequence(input_data, tw):\n",
        "  input_seq = []\n",
        "  input_label = []\n",
        "  L = len(input_data)\n",
        "  for i in range(L-tw):\n",
        "    input_seq.append(input_data[i:i+tw,:])\n",
        "    input_label.append(input_data[i+tw,:])\n",
        "    \n",
        "  return numpy.array(input_seq), numpy.array(input_label)"
      ],
      "execution_count": null,
      "outputs": []
    },
    {
      "cell_type": "code",
      "metadata": {
        "id": "0MXmMmpmjCSX",
        "colab_type": "code",
        "colab": {}
      },
      "source": [
        "X_train, y_train = create_inout_sequence(train_data, 30)\n",
        "X_valid, y_valid = create_inout_sequence(valid_data, 30)\n",
        "X_test, y_test = create_inout_sequence(test_data, 30) "
      ],
      "execution_count": null,
      "outputs": []
    },
    {
      "cell_type": "code",
      "metadata": {
        "id": "7x1LDRN0jHqJ",
        "colab_type": "code",
        "colab": {}
      },
      "source": [
        "model=Sequential()\n",
        "model.add(LSTM(100,return_sequences=True,input_shape=(30,1), dropout = 0.15))\n",
        "model.add(LSTM(100,return_sequences=True, dropout = 0.15))\n",
        "model.add(LSTM(100))\n",
        "model.add(Dense(1))\n",
        "model.compile(loss='mean_squared_error',optimizer='adam')"
      ],
      "execution_count": null,
      "outputs": []
    },
    {
      "cell_type": "code",
      "metadata": {
        "id": "NY4qXNjSxq6k",
        "colab_type": "code",
        "colab": {
          "base_uri": "https://localhost:8080/",
          "height": 308
        },
        "outputId": "c6baa964-5775-4cc3-e137-ac29bf538742"
      },
      "source": [
        "model.summary()"
      ],
      "execution_count": null,
      "outputs": [
        {
          "output_type": "stream",
          "text": [
            "Model: \"sequential_7\"\n",
            "_________________________________________________________________\n",
            "Layer (type)                 Output Shape              Param #   \n",
            "=================================================================\n",
            "lstm_21 (LSTM)               (None, 30, 100)           40800     \n",
            "_________________________________________________________________\n",
            "lstm_22 (LSTM)               (None, 30, 100)           80400     \n",
            "_________________________________________________________________\n",
            "lstm_23 (LSTM)               (None, 100)               80400     \n",
            "_________________________________________________________________\n",
            "dense_7 (Dense)              (None, 1)                 101       \n",
            "=================================================================\n",
            "Total params: 201,701\n",
            "Trainable params: 201,701\n",
            "Non-trainable params: 0\n",
            "_________________________________________________________________\n"
          ],
          "name": "stdout"
        }
      ]
    },
    {
      "cell_type": "code",
      "metadata": {
        "id": "LU3QH55Uj0LW",
        "colab_type": "code",
        "colab": {
          "base_uri": "https://localhost:8080/",
          "height": 1000
        },
        "outputId": "051375ae-6fd8-42fa-a7fc-e7e1edb2c5c6"
      },
      "source": [
        "model.fit(X_train, y_train, 32, 100, 1, validation_data=(X_valid, y_valid))"
      ],
      "execution_count": null,
      "outputs": [
        {
          "output_type": "stream",
          "text": [
            "Epoch 1/100\n",
            "37/37 [==============================] - 1s 33ms/step - loss: 0.0334 - val_loss: 0.0048\n",
            "Epoch 2/100\n",
            "37/37 [==============================] - 0s 9ms/step - loss: 0.0053 - val_loss: 0.0037\n",
            "Epoch 3/100\n",
            "37/37 [==============================] - 0s 10ms/step - loss: 0.0047 - val_loss: 0.0040\n",
            "Epoch 4/100\n",
            "37/37 [==============================] - 0s 10ms/step - loss: 0.0047 - val_loss: 0.0028\n",
            "Epoch 5/100\n",
            "37/37 [==============================] - 0s 10ms/step - loss: 0.0045 - val_loss: 0.0053\n",
            "Epoch 6/100\n",
            "37/37 [==============================] - 0s 10ms/step - loss: 0.0044 - val_loss: 0.0039\n",
            "Epoch 7/100\n",
            "37/37 [==============================] - 0s 9ms/step - loss: 0.0046 - val_loss: 0.0040\n",
            "Epoch 8/100\n",
            "37/37 [==============================] - 0s 10ms/step - loss: 0.0047 - val_loss: 0.0036\n",
            "Epoch 9/100\n",
            "37/37 [==============================] - 0s 9ms/step - loss: 0.0049 - val_loss: 0.0032\n",
            "Epoch 10/100\n",
            "37/37 [==============================] - 0s 9ms/step - loss: 0.0049 - val_loss: 0.0031\n",
            "Epoch 11/100\n",
            "37/37 [==============================] - 0s 10ms/step - loss: 0.0041 - val_loss: 0.0033\n",
            "Epoch 12/100\n",
            "37/37 [==============================] - 0s 10ms/step - loss: 0.0042 - val_loss: 0.0037\n",
            "Epoch 13/100\n",
            "37/37 [==============================] - 0s 10ms/step - loss: 0.0047 - val_loss: 0.0027\n",
            "Epoch 14/100\n",
            "37/37 [==============================] - 0s 10ms/step - loss: 0.0047 - val_loss: 0.0030\n",
            "Epoch 15/100\n",
            "37/37 [==============================] - 0s 10ms/step - loss: 0.0045 - val_loss: 0.0030\n",
            "Epoch 16/100\n",
            "37/37 [==============================] - 0s 10ms/step - loss: 0.0041 - val_loss: 0.0029\n",
            "Epoch 17/100\n",
            "37/37 [==============================] - 0s 10ms/step - loss: 0.0040 - val_loss: 0.0064\n",
            "Epoch 18/100\n",
            "37/37 [==============================] - 0s 10ms/step - loss: 0.0042 - val_loss: 0.0060\n",
            "Epoch 19/100\n",
            "37/37 [==============================] - 0s 10ms/step - loss: 0.0043 - val_loss: 0.0037\n",
            "Epoch 20/100\n",
            "37/37 [==============================] - 0s 10ms/step - loss: 0.0042 - val_loss: 0.0028\n",
            "Epoch 21/100\n",
            "37/37 [==============================] - 0s 9ms/step - loss: 0.0038 - val_loss: 0.0037\n",
            "Epoch 22/100\n",
            "37/37 [==============================] - 0s 10ms/step - loss: 0.0034 - val_loss: 0.0025\n",
            "Epoch 23/100\n",
            "37/37 [==============================] - 0s 9ms/step - loss: 0.0040 - val_loss: 0.0032\n",
            "Epoch 24/100\n",
            "37/37 [==============================] - 0s 9ms/step - loss: 0.0035 - val_loss: 0.0028\n",
            "Epoch 25/100\n",
            "37/37 [==============================] - 0s 10ms/step - loss: 0.0034 - val_loss: 0.0039\n",
            "Epoch 26/100\n",
            "37/37 [==============================] - 0s 10ms/step - loss: 0.0028 - val_loss: 0.0026\n",
            "Epoch 27/100\n",
            "37/37 [==============================] - 0s 9ms/step - loss: 0.0031 - val_loss: 0.0026\n",
            "Epoch 28/100\n",
            "37/37 [==============================] - 0s 9ms/step - loss: 0.0027 - val_loss: 0.0032\n",
            "Epoch 29/100\n",
            "37/37 [==============================] - 0s 10ms/step - loss: 0.0026 - val_loss: 0.0030\n",
            "Epoch 30/100\n",
            "37/37 [==============================] - 0s 10ms/step - loss: 0.0027 - val_loss: 0.0027\n",
            "Epoch 31/100\n",
            "37/37 [==============================] - 0s 9ms/step - loss: 0.0030 - val_loss: 0.0022\n",
            "Epoch 32/100\n",
            "37/37 [==============================] - 0s 9ms/step - loss: 0.0025 - val_loss: 0.0027\n",
            "Epoch 33/100\n",
            "37/37 [==============================] - 0s 9ms/step - loss: 0.0022 - val_loss: 0.0031\n",
            "Epoch 34/100\n",
            "37/37 [==============================] - 0s 10ms/step - loss: 0.0021 - val_loss: 0.0025\n",
            "Epoch 35/100\n",
            "37/37 [==============================] - 0s 9ms/step - loss: 0.0022 - val_loss: 0.0044\n",
            "Epoch 36/100\n",
            "37/37 [==============================] - 0s 10ms/step - loss: 0.0021 - val_loss: 0.0031\n",
            "Epoch 37/100\n",
            "37/37 [==============================] - 0s 10ms/step - loss: 0.0023 - val_loss: 0.0021\n",
            "Epoch 38/100\n",
            "37/37 [==============================] - 0s 9ms/step - loss: 0.0021 - val_loss: 0.0034\n",
            "Epoch 39/100\n",
            "37/37 [==============================] - 0s 10ms/step - loss: 0.0020 - val_loss: 0.0022\n",
            "Epoch 40/100\n",
            "37/37 [==============================] - 0s 10ms/step - loss: 0.0022 - val_loss: 0.0035\n",
            "Epoch 41/100\n",
            "37/37 [==============================] - 0s 10ms/step - loss: 0.0022 - val_loss: 0.0029\n",
            "Epoch 42/100\n",
            "37/37 [==============================] - 0s 10ms/step - loss: 0.0023 - val_loss: 0.0026\n",
            "Epoch 43/100\n",
            "37/37 [==============================] - 0s 10ms/step - loss: 0.0022 - val_loss: 0.0064\n",
            "Epoch 44/100\n",
            "37/37 [==============================] - 0s 9ms/step - loss: 0.0022 - val_loss: 0.0044\n",
            "Epoch 45/100\n",
            "37/37 [==============================] - 0s 9ms/step - loss: 0.0019 - val_loss: 0.0028\n",
            "Epoch 46/100\n",
            "37/37 [==============================] - 0s 10ms/step - loss: 0.0019 - val_loss: 0.0025\n",
            "Epoch 47/100\n",
            "37/37 [==============================] - 0s 10ms/step - loss: 0.0020 - val_loss: 0.0043\n",
            "Epoch 48/100\n",
            "37/37 [==============================] - 0s 9ms/step - loss: 0.0019 - val_loss: 0.0050\n",
            "Epoch 49/100\n",
            "37/37 [==============================] - 0s 10ms/step - loss: 0.0018 - val_loss: 0.0032\n",
            "Epoch 50/100\n",
            "37/37 [==============================] - 0s 9ms/step - loss: 0.0019 - val_loss: 0.0051\n",
            "Epoch 51/100\n",
            "37/37 [==============================] - 0s 10ms/step - loss: 0.0018 - val_loss: 0.0049\n",
            "Epoch 52/100\n",
            "37/37 [==============================] - 0s 10ms/step - loss: 0.0017 - val_loss: 0.0036\n",
            "Epoch 53/100\n",
            "37/37 [==============================] - 0s 10ms/step - loss: 0.0018 - val_loss: 0.0053\n",
            "Epoch 54/100\n",
            "37/37 [==============================] - 0s 10ms/step - loss: 0.0018 - val_loss: 0.0031\n",
            "Epoch 55/100\n",
            "37/37 [==============================] - 0s 10ms/step - loss: 0.0018 - val_loss: 0.0041\n",
            "Epoch 56/100\n",
            "37/37 [==============================] - 0s 9ms/step - loss: 0.0016 - val_loss: 0.0067\n",
            "Epoch 57/100\n",
            "37/37 [==============================] - 0s 10ms/step - loss: 0.0015 - val_loss: 0.0032\n",
            "Epoch 58/100\n",
            "37/37 [==============================] - 0s 9ms/step - loss: 0.0016 - val_loss: 0.0042\n",
            "Epoch 59/100\n",
            "37/37 [==============================] - 0s 10ms/step - loss: 0.0015 - val_loss: 0.0054\n",
            "Epoch 60/100\n",
            "37/37 [==============================] - 0s 9ms/step - loss: 0.0016 - val_loss: 0.0032\n",
            "Epoch 61/100\n",
            "37/37 [==============================] - 0s 9ms/step - loss: 0.0016 - val_loss: 0.0068\n",
            "Epoch 62/100\n",
            "37/37 [==============================] - 0s 10ms/step - loss: 0.0017 - val_loss: 0.0066\n",
            "Epoch 63/100\n",
            "37/37 [==============================] - 0s 9ms/step - loss: 0.0014 - val_loss: 0.0036\n",
            "Epoch 64/100\n",
            "37/37 [==============================] - 0s 9ms/step - loss: 0.0014 - val_loss: 0.0040\n",
            "Epoch 65/100\n",
            "37/37 [==============================] - 0s 9ms/step - loss: 0.0013 - val_loss: 0.0055\n",
            "Epoch 66/100\n",
            "37/37 [==============================] - 0s 10ms/step - loss: 0.0015 - val_loss: 0.0050\n",
            "Epoch 67/100\n",
            "37/37 [==============================] - 0s 9ms/step - loss: 0.0013 - val_loss: 0.0047\n",
            "Epoch 68/100\n",
            "37/37 [==============================] - 0s 10ms/step - loss: 0.0012 - val_loss: 0.0037\n",
            "Epoch 69/100\n",
            "37/37 [==============================] - 0s 10ms/step - loss: 0.0012 - val_loss: 0.0058\n",
            "Epoch 70/100\n",
            "37/37 [==============================] - 0s 9ms/step - loss: 0.0014 - val_loss: 0.0028\n",
            "Epoch 71/100\n",
            "37/37 [==============================] - 0s 10ms/step - loss: 0.0012 - val_loss: 0.0063\n",
            "Epoch 72/100\n",
            "37/37 [==============================] - 0s 9ms/step - loss: 0.0013 - val_loss: 0.0035\n",
            "Epoch 73/100\n",
            "37/37 [==============================] - 0s 9ms/step - loss: 0.0011 - val_loss: 0.0046\n",
            "Epoch 74/100\n",
            "37/37 [==============================] - 0s 10ms/step - loss: 0.0012 - val_loss: 0.0030\n",
            "Epoch 75/100\n",
            "37/37 [==============================] - 0s 10ms/step - loss: 0.0011 - val_loss: 0.0069\n",
            "Epoch 76/100\n",
            "37/37 [==============================] - 0s 10ms/step - loss: 0.0012 - val_loss: 0.0073\n",
            "Epoch 77/100\n",
            "37/37 [==============================] - 0s 10ms/step - loss: 0.0011 - val_loss: 0.0053\n",
            "Epoch 78/100\n",
            "37/37 [==============================] - 0s 9ms/step - loss: 0.0011 - val_loss: 0.0052\n",
            "Epoch 79/100\n",
            "37/37 [==============================] - 0s 9ms/step - loss: 0.0010 - val_loss: 0.0048\n",
            "Epoch 80/100\n",
            "37/37 [==============================] - 0s 10ms/step - loss: 0.0011 - val_loss: 0.0056\n",
            "Epoch 81/100\n",
            "37/37 [==============================] - 0s 9ms/step - loss: 0.0012 - val_loss: 0.0061\n",
            "Epoch 82/100\n",
            "37/37 [==============================] - 0s 10ms/step - loss: 9.7943e-04 - val_loss: 0.0062\n",
            "Epoch 83/100\n",
            "37/37 [==============================] - 0s 10ms/step - loss: 0.0010 - val_loss: 0.0044\n",
            "Epoch 84/100\n",
            "37/37 [==============================] - 0s 9ms/step - loss: 9.4062e-04 - val_loss: 0.0063\n",
            "Epoch 85/100\n",
            "37/37 [==============================] - 0s 10ms/step - loss: 0.0010 - val_loss: 0.0060\n",
            "Epoch 86/100\n",
            "37/37 [==============================] - 0s 9ms/step - loss: 0.0011 - val_loss: 0.0060\n",
            "Epoch 87/100\n",
            "37/37 [==============================] - 0s 9ms/step - loss: 0.0011 - val_loss: 0.0066\n",
            "Epoch 88/100\n",
            "37/37 [==============================] - 0s 10ms/step - loss: 9.6144e-04 - val_loss: 0.0093\n",
            "Epoch 89/100\n",
            "37/37 [==============================] - 0s 10ms/step - loss: 0.0010 - val_loss: 0.0072\n",
            "Epoch 90/100\n",
            "37/37 [==============================] - 0s 9ms/step - loss: 9.4448e-04 - val_loss: 0.0082\n",
            "Epoch 91/100\n",
            "37/37 [==============================] - 0s 9ms/step - loss: 9.6365e-04 - val_loss: 0.0052\n",
            "Epoch 92/100\n",
            "37/37 [==============================] - 0s 9ms/step - loss: 9.1736e-04 - val_loss: 0.0088\n",
            "Epoch 93/100\n",
            "37/37 [==============================] - 0s 9ms/step - loss: 9.9919e-04 - val_loss: 0.0050\n",
            "Epoch 94/100\n",
            "37/37 [==============================] - 0s 9ms/step - loss: 8.1796e-04 - val_loss: 0.0049\n",
            "Epoch 95/100\n",
            "37/37 [==============================] - 0s 9ms/step - loss: 8.7407e-04 - val_loss: 0.0081\n",
            "Epoch 96/100\n",
            "37/37 [==============================] - 0s 10ms/step - loss: 9.3857e-04 - val_loss: 0.0062\n",
            "Epoch 97/100\n",
            "37/37 [==============================] - 0s 10ms/step - loss: 9.2589e-04 - val_loss: 0.0050\n",
            "Epoch 98/100\n",
            "37/37 [==============================] - 0s 9ms/step - loss: 8.6764e-04 - val_loss: 0.0047\n",
            "Epoch 99/100\n",
            "37/37 [==============================] - 0s 10ms/step - loss: 9.8840e-04 - val_loss: 0.0069\n",
            "Epoch 100/100\n",
            "37/37 [==============================] - 0s 9ms/step - loss: 0.0012 - val_loss: 0.0042\n"
          ],
          "name": "stdout"
        },
        {
          "output_type": "execute_result",
          "data": {
            "text/plain": [
              "<tensorflow.python.keras.callbacks.History at 0x7f70fb639e48>"
            ]
          },
          "metadata": {
            "tags": []
          },
          "execution_count": 143
        }
      ]
    },
    {
      "cell_type": "code",
      "metadata": {
        "id": "tby9YO8TXgSr",
        "colab_type": "code",
        "colab": {}
      },
      "source": [
        "train_predict = model.predict(X_train)\n",
        "valid_predict = model.predict(X_valid)\n",
        "test_predict = model.predict(X_test)"
      ],
      "execution_count": null,
      "outputs": []
    },
    {
      "cell_type": "code",
      "metadata": {
        "id": "LIR1KGNEXut8",
        "colab_type": "code",
        "colab": {}
      },
      "source": [
        "train_predict = scale.inverse_transform(train_predict)\n",
        "valid_predict = scale.inverse_transform(valid_predict)\n",
        "test_predict = scale.inverse_transform(test_predict)"
      ],
      "execution_count": null,
      "outputs": []
    },
    {
      "cell_type": "code",
      "metadata": {
        "id": "qo_z4uDVYG2i",
        "colab_type": "code",
        "colab": {
          "base_uri": "https://localhost:8080/",
          "height": 35
        },
        "outputId": "4b41d44b-423a-4533-b2df-19dc478a0de6"
      },
      "source": [
        "math.sqrt(mean_squared_error(y_train,train_predict))"
      ],
      "execution_count": null,
      "outputs": [
        {
          "output_type": "execute_result",
          "data": {
            "text/plain": [
              "2825.1382309997107"
            ]
          },
          "metadata": {
            "tags": []
          },
          "execution_count": 146
        }
      ]
    },
    {
      "cell_type": "code",
      "metadata": {
        "id": "JeR9tvn6YNQ2",
        "colab_type": "code",
        "colab": {
          "base_uri": "https://localhost:8080/",
          "height": 35
        },
        "outputId": "accabcc2-92a6-4882-8ea5-8d571a28ff05"
      },
      "source": [
        "math.sqrt(mean_squared_error(y_valid,valid_predict))"
      ],
      "execution_count": null,
      "outputs": [
        {
          "output_type": "execute_result",
          "data": {
            "text/plain": [
              "2732.095668675885"
            ]
          },
          "metadata": {
            "tags": []
          },
          "execution_count": 147
        }
      ]
    },
    {
      "cell_type": "code",
      "metadata": {
        "id": "nW9gZUngYSyV",
        "colab_type": "code",
        "colab": {
          "base_uri": "https://localhost:8080/",
          "height": 35
        },
        "outputId": "023903aa-1bda-48d0-fc45-a11b0977f778"
      },
      "source": [
        "math.sqrt(mean_squared_error(y_test,test_predict))"
      ],
      "execution_count": null,
      "outputs": [
        {
          "output_type": "execute_result",
          "data": {
            "text/plain": [
              "2300.935167064921"
            ]
          },
          "metadata": {
            "tags": []
          },
          "execution_count": 148
        }
      ]
    },
    {
      "cell_type": "code",
      "metadata": {
        "id": "lbN_EgSAboZE",
        "colab_type": "code",
        "colab": {}
      },
      "source": [
        "lookback = 30\n",
        "trainpredict = numpy.empty_like(DF)\n",
        "trainpredict[:,:] = numpy.nan\n",
        "trainpredict[lookback:train_size, :] = train_predict"
      ],
      "execution_count": null,
      "outputs": []
    },
    {
      "cell_type": "code",
      "metadata": {
        "id": "i4efm0TUrhnT",
        "colab_type": "code",
        "colab": {}
      },
      "source": [
        "validpredict = numpy.empty_like(DF)\n",
        "validpredict[:,:] = numpy.nan\n",
        "validpredict[train_size + lookback:train_size + valid_size, :] = valid_predict"
      ],
      "execution_count": null,
      "outputs": []
    },
    {
      "cell_type": "code",
      "metadata": {
        "id": "XMUD-9ncuIGT",
        "colab_type": "code",
        "colab": {}
      },
      "source": [
        "testpredict = numpy.empty_like(DF)\n",
        "testpredict[:,:] = numpy.nan\n",
        "testpredict[train_size + valid_size + lookback: -2, :] = test_predict"
      ],
      "execution_count": null,
      "outputs": []
    },
    {
      "cell_type": "code",
      "metadata": {
        "id": "W6K8XO_6aj8w",
        "colab_type": "code",
        "colab": {
          "base_uri": "https://localhost:8080/",
          "height": 283
        },
        "outputId": "eeece379-884c-40c1-f1d6-9162fbe30266"
      },
      "source": [
        "df['Open'].plot()\n",
        "plt.plot(trainpredict)\n",
        "plt.plot(validpredict)\n",
        "plt.plot(testpredict)"
      ],
      "execution_count": null,
      "outputs": [
        {
          "output_type": "execute_result",
          "data": {
            "text/plain": [
              "[<matplotlib.lines.Line2D at 0x7f70f8f67198>]"
            ]
          },
          "metadata": {
            "tags": []
          },
          "execution_count": 152
        },
        {
          "output_type": "display_data",
          "data": {
            "image/png": "[encoded data removed]",
            "text/plain": [
              "<Figure size 432x288 with 1 Axes>"
            ]
          },
          "metadata": {
            "tags": [],
            "needs_background": "light"
          }
        }
      ]
    },
    {
      "cell_type": "code",
      "metadata": {
        "id": "SLy-LfM4apS2",
        "colab_type": "code",
        "colab": {
          "base_uri": "https://localhost:8080/",
          "height": 35
        },
        "outputId": "eed5040d-2ad9-47ef-c361-9b98ea90e60e"
      },
      "source": [
        "model.save('/content/drive/My Drive/Stock_Prediction_LSTM')"
      ],
      "execution_count": null,
      "outputs": [
        {
          "output_type": "stream",
          "text": [
            "INFO:tensorflow:Assets written to: /content/drive/My Drive/Stock_Prediction_LSTM/assets\n"
          ],
          "name": "stdout"
        }
      ]
    },
    {
      "cell_type": "code",
      "metadata": {
        "id": "uGJ7kFRP74HH",
        "colab_type": "code",
        "colab": {}
      },
      "source": [
        ""
      ],
      "execution_count": null,
      "outputs": []
    }
  ]
}