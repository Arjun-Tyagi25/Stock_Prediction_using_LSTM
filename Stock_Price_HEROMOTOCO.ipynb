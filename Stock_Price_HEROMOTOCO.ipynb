{
  "nbformat": 4,
  "nbformat_minor": 0,
  "metadata": {
    "colab": {
      "name": "Stock_Price_HEROMOTOCO.ipynb",
      "provenance": [],
      "collapsed_sections": []
    },
    "kernelspec": {
      "name": "python3",
      "display_name": "Python 3"
    },
    "accelerator": "GPU"
  },
  "cells": [
    {
      "cell_type": "markdown",
      "metadata": {
        "id": "CPfzy7GfAhLR",
        "colab_type": "text"
      },
      "source": [
        "# **IMPORTING LIBRARIES AND DATA**"
      ]
    },
    {
      "cell_type": "code",
      "metadata": {
        "id": "l4qVyw-QZJrt",
        "colab_type": "code",
        "colab": {}
      },
      "source": [
        "import numpy\n",
        "import pandas as pd\n",
        "import matplotlib.pyplot as plt\n",
        "from sklearn.preprocessing import MinMaxScaler\n",
        "import tensorflow as tf\n",
        "from tensorflow.keras.models import Sequential\n",
        "from tensorflow.keras.layers import Dense\n",
        "from tensorflow.keras.layers import LSTM\n",
        "from tensorflow.keras.layers import Bidirectional\n",
        "import math\n",
        "from sklearn.metrics import mean_squared_error"
      ],
      "execution_count": 347,
      "outputs": []
    },
    {
      "cell_type": "code",
      "metadata": {
        "id": "pr6-urKzZasE",
        "colab_type": "code",
        "colab": {}
      },
      "source": [
        "df = pd.read_csv('HEROMOTOCO.csv')"
      ],
      "execution_count": 368,
      "outputs": []
    },
    {
      "cell_type": "code",
      "metadata": {
        "id": "QAuYucpV-2Ay",
        "colab_type": "code",
        "colab": {
          "base_uri": "https://localhost:8080/",
          "height": 204
        },
        "outputId": "8d601c04-20fc-4b96-8c83-dd63c705453d"
      },
      "source": [
        "df.head()"
      ],
      "execution_count": 369,
      "outputs": [
        {
          "output_type": "execute_result",
          "data": {
            "text/html": [
              "<div>\n",
              "<style scoped>\n",
              "    .dataframe tbody tr th:only-of-type {\n",
              "        vertical-align: middle;\n",
              "    }\n",
              "\n",
              "    .dataframe tbody tr th {\n",
              "        vertical-align: top;\n",
              "    }\n",
              "\n",
              "    .dataframe thead th {\n",
              "        text-align: right;\n",
              "    }\n",
              "</style>\n",
              "<table border=\"1\" class=\"dataframe\">\n",
              "  <thead>\n",
              "    <tr style=\"text-align: right;\">\n",
              "      <th></th>\n",
              "      <th>Date</th>\n",
              "      <th>Open</th>\n",
              "      <th>High</th>\n",
              "      <th>Low</th>\n",
              "      <th>Close</th>\n",
              "      <th>Adj Close</th>\n",
              "      <th>Volume</th>\n",
              "    </tr>\n",
              "  </thead>\n",
              "  <tbody>\n",
              "    <tr>\n",
              "      <th>0</th>\n",
              "      <td>2013-07-31</td>\n",
              "      <td>1845.00</td>\n",
              "      <td>1849.949951</td>\n",
              "      <td>1807.599976</td>\n",
              "      <td>1819.400024</td>\n",
              "      <td>1425.192993</td>\n",
              "      <td>329505.0</td>\n",
              "    </tr>\n",
              "    <tr>\n",
              "      <th>1</th>\n",
              "      <td>2013-08-01</td>\n",
              "      <td>1820.00</td>\n",
              "      <td>1832.800049</td>\n",
              "      <td>1798.000000</td>\n",
              "      <td>1815.099976</td>\n",
              "      <td>1421.824707</td>\n",
              "      <td>373538.0</td>\n",
              "    </tr>\n",
              "    <tr>\n",
              "      <th>2</th>\n",
              "      <td>2013-08-02</td>\n",
              "      <td>1821.25</td>\n",
              "      <td>1850.000000</td>\n",
              "      <td>1780.050049</td>\n",
              "      <td>1801.800049</td>\n",
              "      <td>1411.406250</td>\n",
              "      <td>251833.0</td>\n",
              "    </tr>\n",
              "    <tr>\n",
              "      <th>3</th>\n",
              "      <td>2013-08-05</td>\n",
              "      <td>1803.75</td>\n",
              "      <td>1859.949951</td>\n",
              "      <td>1786.099976</td>\n",
              "      <td>1854.150024</td>\n",
              "      <td>1452.413818</td>\n",
              "      <td>1537397.0</td>\n",
              "    </tr>\n",
              "    <tr>\n",
              "      <th>4</th>\n",
              "      <td>2013-08-06</td>\n",
              "      <td>1851.00</td>\n",
              "      <td>1894.900024</td>\n",
              "      <td>1828.199951</td>\n",
              "      <td>1848.199951</td>\n",
              "      <td>1447.753052</td>\n",
              "      <td>370097.0</td>\n",
              "    </tr>\n",
              "  </tbody>\n",
              "</table>\n",
              "</div>"
            ],
            "text/plain": [
              "         Date     Open         High  ...        Close    Adj Close     Volume\n",
              "0  2013-07-31  1845.00  1849.949951  ...  1819.400024  1425.192993   329505.0\n",
              "1  2013-08-01  1820.00  1832.800049  ...  1815.099976  1421.824707   373538.0\n",
              "2  2013-08-02  1821.25  1850.000000  ...  1801.800049  1411.406250   251833.0\n",
              "3  2013-08-05  1803.75  1859.949951  ...  1854.150024  1452.413818  1537397.0\n",
              "4  2013-08-06  1851.00  1894.900024  ...  1848.199951  1447.753052   370097.0\n",
              "\n",
              "[5 rows x 7 columns]"
            ]
          },
          "metadata": {
            "tags": []
          },
          "execution_count": 369
        }
      ]
    },
    {
      "cell_type": "markdown",
      "metadata": {
        "id": "ujv7u-_m_axz",
        "colab_type": "text"
      },
      "source": [
        "## **DATA PREPROCESSING**\n",
        "\n",
        "\n",
        "\n",
        "\n",
        "\n"
      ]
    },
    {
      "cell_type": "code",
      "metadata": {
        "id": "rBUszM1j1QOX",
        "colab_type": "code",
        "colab": {}
      },
      "source": [
        "for i in range(len(df)):\n",
        "  if numpy.isnan(df.at[i, 'Open']):\n",
        "    df.drop(i, axis = 0, inplace = True)"
      ],
      "execution_count": 370,
      "outputs": []
    },
    {
      "cell_type": "code",
      "metadata": {
        "id": "CeMhmlLIeu2J",
        "colab_type": "code",
        "colab": {
          "base_uri": "https://localhost:8080/",
          "height": 204
        },
        "outputId": "17214950-0e7d-4d81-d43d-c49c509b8d41"
      },
      "source": [
        "DF = df[['Open', 'High', 'Low', 'Close']]\n",
        "DF.head()"
      ],
      "execution_count": 371,
      "outputs": [
        {
          "output_type": "execute_result",
          "data": {
            "text/html": [
              "<div>\n",
              "<style scoped>\n",
              "    .dataframe tbody tr th:only-of-type {\n",
              "        vertical-align: middle;\n",
              "    }\n",
              "\n",
              "    .dataframe tbody tr th {\n",
              "        vertical-align: top;\n",
              "    }\n",
              "\n",
              "    .dataframe thead th {\n",
              "        text-align: right;\n",
              "    }\n",
              "</style>\n",
              "<table border=\"1\" class=\"dataframe\">\n",
              "  <thead>\n",
              "    <tr style=\"text-align: right;\">\n",
              "      <th></th>\n",
              "      <th>Open</th>\n",
              "      <th>High</th>\n",
              "      <th>Low</th>\n",
              "      <th>Close</th>\n",
              "    </tr>\n",
              "  </thead>\n",
              "  <tbody>\n",
              "    <tr>\n",
              "      <th>0</th>\n",
              "      <td>1845.00</td>\n",
              "      <td>1849.949951</td>\n",
              "      <td>1807.599976</td>\n",
              "      <td>1819.400024</td>\n",
              "    </tr>\n",
              "    <tr>\n",
              "      <th>1</th>\n",
              "      <td>1820.00</td>\n",
              "      <td>1832.800049</td>\n",
              "      <td>1798.000000</td>\n",
              "      <td>1815.099976</td>\n",
              "    </tr>\n",
              "    <tr>\n",
              "      <th>2</th>\n",
              "      <td>1821.25</td>\n",
              "      <td>1850.000000</td>\n",
              "      <td>1780.050049</td>\n",
              "      <td>1801.800049</td>\n",
              "    </tr>\n",
              "    <tr>\n",
              "      <th>3</th>\n",
              "      <td>1803.75</td>\n",
              "      <td>1859.949951</td>\n",
              "      <td>1786.099976</td>\n",
              "      <td>1854.150024</td>\n",
              "    </tr>\n",
              "    <tr>\n",
              "      <th>4</th>\n",
              "      <td>1851.00</td>\n",
              "      <td>1894.900024</td>\n",
              "      <td>1828.199951</td>\n",
              "      <td>1848.199951</td>\n",
              "    </tr>\n",
              "  </tbody>\n",
              "</table>\n",
              "</div>"
            ],
            "text/plain": [
              "      Open         High          Low        Close\n",
              "0  1845.00  1849.949951  1807.599976  1819.400024\n",
              "1  1820.00  1832.800049  1798.000000  1815.099976\n",
              "2  1821.25  1850.000000  1780.050049  1801.800049\n",
              "3  1803.75  1859.949951  1786.099976  1854.150024\n",
              "4  1851.00  1894.900024  1828.199951  1848.199951"
            ]
          },
          "metadata": {
            "tags": []
          },
          "execution_count": 371
        }
      ]
    },
    {
      "cell_type": "markdown",
      "metadata": {
        "id": "GcLRZ9NO_tb2",
        "colab_type": "text"
      },
      "source": [
        "# **NORMALIZING FEATURES**"
      ]
    },
    {
      "cell_type": "code",
      "metadata": {
        "id": "7MkFZzhAIxbN",
        "colab_type": "code",
        "colab": {}
      },
      "source": [
        "scale_open = MinMaxScaler(feature_range=(0,1))\n",
        "scale_rest = MinMaxScaler(feature_range=(0,1))\n",
        "DF_open = scale_open.fit_transform(numpy.array(DF['Open']).reshape(-1,1))\n",
        "DF_rest = scale_rest.fit_transform(numpy.array(DF[['High', 'Low', 'Close']]).reshape(-1,3))\n",
        "DF = numpy.concatenate((DF_open, DF_rest), axis = 1)"
      ],
      "execution_count": 372,
      "outputs": []
    },
    {
      "cell_type": "markdown",
      "metadata": {
        "id": "F_MQoU0W_63Z",
        "colab_type": "text"
      },
      "source": [
        "# **TRAIN-VALID-TEST SPLIT**"
      ]
    },
    {
      "cell_type": "code",
      "metadata": {
        "id": "stHL3mmlIfOu",
        "colab_type": "code",
        "colab": {}
      },
      "source": [
        "valid_percent = 0.15\n",
        "test_percent = 0.15\n",
        "train_percent = 1 - (valid_percent + test_percent)\n",
        "\n",
        "L = len(DF)\n",
        "\n",
        "train_size = int(train_percent * L)\n",
        "valid_size = int(valid_percent * L)\n",
        "test_size = int(test_percent * L)\n",
        "\n",
        "train_data = DF[0:train_size,:]\n",
        "valid_data = DF[train_size:train_size + valid_size, :]\n",
        "test_data = DF[train_size + valid_size:train_size + valid_size + test_size, :]"
      ],
      "execution_count": 373,
      "outputs": []
    },
    {
      "cell_type": "code",
      "metadata": {
        "id": "vQJd5Il_PEuQ",
        "colab_type": "code",
        "colab": {}
      },
      "source": [
        "def create_inout_sequence(input_data, tw):\n",
        "  input_seq = []\n",
        "  input_label = []\n",
        "  L = len(input_data)\n",
        "  for i in range(L-tw):\n",
        "    input_seq.append(input_data[i:i+tw,:])\n",
        "    input_label.append(input_data[i+tw,0])\n",
        "    \n",
        "  return numpy.array(input_seq), numpy.array(input_label)"
      ],
      "execution_count": 374,
      "outputs": []
    },
    {
      "cell_type": "code",
      "metadata": {
        "id": "0MXmMmpmjCSX",
        "colab_type": "code",
        "colab": {}
      },
      "source": [
        "window = 15\n",
        "X_train, y_train = create_inout_sequence(train_data, window)\n",
        "X_valid, y_valid = create_inout_sequence(valid_data, window)\n",
        "X_test, y_test = create_inout_sequence(test_data, window) "
      ],
      "execution_count": 375,
      "outputs": []
    },
    {
      "cell_type": "markdown",
      "metadata": {
        "id": "30XVnGQgAFMg",
        "colab_type": "text"
      },
      "source": [
        "# **MODEL ARCHITECTURE**"
      ]
    },
    {
      "cell_type": "code",
      "metadata": {
        "id": "7x1LDRN0jHqJ",
        "colab_type": "code",
        "colab": {}
      },
      "source": [
        "model=Sequential()\n",
        "model.add(LSTM(100, activation='relu', return_sequences=True, dropout = 0.1, input_shape=(X_train.shape[1],4)))\n",
        "model.add(LSTM(100, activation='relu', return_sequences=False, dropout = 0.1))\n",
        "model.add(Dense(1))\n",
        "model.compile(loss='mean_squared_error',optimizer='adam')"
      ],
      "execution_count": null,
      "outputs": []
    },
    {
      "cell_type": "code",
      "metadata": {
        "id": "NY4qXNjSxq6k",
        "colab_type": "code",
        "colab": {
          "base_uri": "https://localhost:8080/",
          "height": 255
        },
        "outputId": "0f787038-49b0-4e36-d3bc-95d22413fbde"
      },
      "source": [
        "model.summary()"
      ],
      "execution_count": 377,
      "outputs": [
        {
          "output_type": "stream",
          "text": [
            "Model: \"sequential_16\"\n",
            "_________________________________________________________________\n",
            "Layer (type)                 Output Shape              Param #   \n",
            "=================================================================\n",
            "lstm_33 (LSTM)               (None, 15, 100)           42000     \n",
            "_________________________________________________________________\n",
            "lstm_34 (LSTM)               (None, 100)               80400     \n",
            "_________________________________________________________________\n",
            "dense_16 (Dense)             (None, 1)                 101       \n",
            "=================================================================\n",
            "Total params: 122,501\n",
            "Trainable params: 122,501\n",
            "Non-trainable params: 0\n",
            "_________________________________________________________________\n"
          ],
          "name": "stdout"
        }
      ]
    },
    {
      "cell_type": "code",
      "metadata": {
        "id": "LU3QH55Uj0LW",
        "colab_type": "code",
        "colab": {
          "base_uri": "https://localhost:8080/",
          "height": 1000
        },
        "outputId": "fe6e1357-2256-4c87-8b8f-4d060803a946"
      },
      "source": [
        "model.fit(X_train, y_train, 32, 50, 1, validation_data=(X_valid, y_valid))"
      ],
      "execution_count": 378,
      "outputs": [
        {
          "output_type": "stream",
          "text": [
            "Epoch 1/50\n",
            "38/38 [==============================] - 2s 56ms/step - loss: 0.0538 - val_loss: 0.0021\n",
            "Epoch 2/50\n",
            "38/38 [==============================] - 2s 50ms/step - loss: 0.0029 - val_loss: 0.0019\n",
            "Epoch 3/50\n",
            "38/38 [==============================] - 2s 58ms/step - loss: 0.0023 - val_loss: 0.0019\n",
            "Epoch 4/50\n",
            "38/38 [==============================] - 2s 50ms/step - loss: 0.0020 - val_loss: 0.0019\n",
            "Epoch 5/50\n",
            "38/38 [==============================] - 2s 53ms/step - loss: 0.0019 - val_loss: 0.0029\n",
            "Epoch 6/50\n",
            "38/38 [==============================] - 2s 48ms/step - loss: 0.0018 - val_loss: 0.0038\n",
            "Epoch 7/50\n",
            "38/38 [==============================] - 2s 51ms/step - loss: 0.0016 - val_loss: 0.0033\n",
            "Epoch 8/50\n",
            "38/38 [==============================] - 2s 49ms/step - loss: 0.0016 - val_loss: 0.0028\n",
            "Epoch 9/50\n",
            "38/38 [==============================] - 2s 49ms/step - loss: 0.0019 - val_loss: 0.0025\n",
            "Epoch 10/50\n",
            "38/38 [==============================] - 2s 53ms/step - loss: 0.0015 - val_loss: 0.0028\n",
            "Epoch 11/50\n",
            "38/38 [==============================] - 2s 50ms/step - loss: 0.0015 - val_loss: 0.0036\n",
            "Epoch 12/50\n",
            "38/38 [==============================] - 2s 51ms/step - loss: 0.0014 - val_loss: 0.0035\n",
            "Epoch 13/50\n",
            "38/38 [==============================] - 2s 51ms/step - loss: 0.0013 - val_loss: 0.0050\n",
            "Epoch 14/50\n",
            "38/38 [==============================] - 2s 50ms/step - loss: 0.0015 - val_loss: 0.0025\n",
            "Epoch 15/50\n",
            "38/38 [==============================] - 2s 50ms/step - loss: 0.0015 - val_loss: 0.0028\n",
            "Epoch 16/50\n",
            "38/38 [==============================] - 2s 49ms/step - loss: 0.0015 - val_loss: 0.0027\n",
            "Epoch 17/50\n",
            "38/38 [==============================] - 2s 50ms/step - loss: 0.0013 - val_loss: 0.0030\n",
            "Epoch 18/50\n",
            "38/38 [==============================] - 2s 48ms/step - loss: 0.0014 - val_loss: 0.0029\n",
            "Epoch 19/50\n",
            "38/38 [==============================] - 2s 49ms/step - loss: 0.0013 - val_loss: 0.0043\n",
            "Epoch 20/50\n",
            "38/38 [==============================] - 2s 57ms/step - loss: 0.0013 - val_loss: 0.0026\n",
            "Epoch 21/50\n",
            "38/38 [==============================] - 2s 52ms/step - loss: 0.0014 - val_loss: 0.0046\n",
            "Epoch 22/50\n",
            "38/38 [==============================] - 2s 50ms/step - loss: 0.0014 - val_loss: 0.0030\n",
            "Epoch 23/50\n",
            "38/38 [==============================] - 2s 49ms/step - loss: 0.0014 - val_loss: 0.0029\n",
            "Epoch 24/50\n",
            "38/38 [==============================] - 2s 49ms/step - loss: 0.0011 - val_loss: 0.0047\n",
            "Epoch 25/50\n",
            "38/38 [==============================] - 2s 49ms/step - loss: 0.0012 - val_loss: 0.0023\n",
            "Epoch 26/50\n",
            "38/38 [==============================] - 2s 48ms/step - loss: 0.0011 - val_loss: 0.0019\n",
            "Epoch 27/50\n",
            "38/38 [==============================] - 2s 51ms/step - loss: 0.0012 - val_loss: 0.0036\n",
            "Epoch 28/50\n",
            "38/38 [==============================] - 2s 51ms/step - loss: 0.0011 - val_loss: 0.0035\n",
            "Epoch 29/50\n",
            "38/38 [==============================] - 2s 49ms/step - loss: 0.0011 - val_loss: 0.0019\n",
            "Epoch 30/50\n",
            "38/38 [==============================] - 2s 54ms/step - loss: 0.0011 - val_loss: 0.0037\n",
            "Epoch 31/50\n",
            "38/38 [==============================] - 2s 48ms/step - loss: 0.0010 - val_loss: 0.0020\n",
            "Epoch 32/50\n",
            "38/38 [==============================] - 2s 48ms/step - loss: 9.9598e-04 - val_loss: 0.0045\n",
            "Epoch 33/50\n",
            "38/38 [==============================] - 2s 50ms/step - loss: 0.0010 - val_loss: 0.0030\n",
            "Epoch 34/50\n",
            "38/38 [==============================] - 2s 51ms/step - loss: 9.4282e-04 - val_loss: 0.0034\n",
            "Epoch 35/50\n",
            "38/38 [==============================] - 2s 49ms/step - loss: 9.3046e-04 - val_loss: 0.0028\n",
            "Epoch 36/50\n",
            "38/38 [==============================] - 2s 49ms/step - loss: 9.4781e-04 - val_loss: 0.0049\n",
            "Epoch 37/50\n",
            "38/38 [==============================] - 2s 47ms/step - loss: 9.3227e-04 - val_loss: 0.0035\n",
            "Epoch 38/50\n",
            "38/38 [==============================] - 2s 48ms/step - loss: 9.0710e-04 - val_loss: 0.0030\n",
            "Epoch 39/50\n",
            "38/38 [==============================] - 2s 49ms/step - loss: 8.5841e-04 - val_loss: 0.0038\n",
            "Epoch 40/50\n",
            "38/38 [==============================] - 2s 51ms/step - loss: 8.7296e-04 - val_loss: 0.0035\n",
            "Epoch 41/50\n",
            "38/38 [==============================] - 2s 55ms/step - loss: 8.3302e-04 - val_loss: 0.0030\n",
            "Epoch 42/50\n",
            "38/38 [==============================] - 2s 51ms/step - loss: 8.4440e-04 - val_loss: 0.0036\n",
            "Epoch 43/50\n",
            "38/38 [==============================] - 2s 52ms/step - loss: 8.8890e-04 - val_loss: 0.0033\n",
            "Epoch 44/50\n",
            "38/38 [==============================] - 2s 51ms/step - loss: 8.1697e-04 - val_loss: 0.0037\n",
            "Epoch 45/50\n",
            "38/38 [==============================] - 2s 50ms/step - loss: 7.0975e-04 - val_loss: 0.0028\n",
            "Epoch 46/50\n",
            "38/38 [==============================] - 2s 56ms/step - loss: 7.2394e-04 - val_loss: 0.0034\n",
            "Epoch 47/50\n",
            "38/38 [==============================] - 2s 50ms/step - loss: 7.3758e-04 - val_loss: 0.0020\n",
            "Epoch 48/50\n",
            "38/38 [==============================] - 2s 50ms/step - loss: 8.3584e-04 - val_loss: 0.0035\n",
            "Epoch 49/50\n",
            "38/38 [==============================] - 2s 64ms/step - loss: 7.1304e-04 - val_loss: 0.0035\n",
            "Epoch 50/50\n",
            "38/38 [==============================] - 2s 54ms/step - loss: 7.5449e-04 - val_loss: 0.0023\n"
          ],
          "name": "stdout"
        },
        {
          "output_type": "execute_result",
          "data": {
            "text/plain": [
              "<tensorflow.python.keras.callbacks.History at 0x7feaeb097a90>"
            ]
          },
          "metadata": {
            "tags": []
          },
          "execution_count": 378
        }
      ]
    },
    {
      "cell_type": "markdown",
      "metadata": {
        "id": "s35AN-UXAN3F",
        "colab_type": "text"
      },
      "source": [
        "# **ACCURACY AND PLOTTING**"
      ]
    },
    {
      "cell_type": "code",
      "metadata": {
        "id": "tby9YO8TXgSr",
        "colab_type": "code",
        "colab": {}
      },
      "source": [
        "train_predict = model.predict(X_train)\n",
        "valid_predict = model.predict(X_valid)\n",
        "test_predict = model.predict(X_test)"
      ],
      "execution_count": 379,
      "outputs": []
    },
    {
      "cell_type": "code",
      "metadata": {
        "id": "LIR1KGNEXut8",
        "colab_type": "code",
        "colab": {}
      },
      "source": [
        "train_predict = scale_open.inverse_transform(train_predict)\n",
        "y_train = scale_open.inverse_transform(y_train.reshape(-1,1))\n",
        "valid_predict = scale_open.inverse_transform(valid_predict)\n",
        "y_valid = scale_open.inverse_transform(y_valid.reshape(-1,1))\n",
        "test_predict = scale_open.inverse_transform(test_predict)\n",
        "y_test = scale_open.inverse_transform(y_test.reshape(-1,1))"
      ],
      "execution_count": 380,
      "outputs": []
    },
    {
      "cell_type": "code",
      "metadata": {
        "id": "qo_z4uDVYG2i",
        "colab_type": "code",
        "colab": {
          "base_uri": "https://localhost:8080/",
          "height": 34
        },
        "outputId": "bd2d23a1-2707-47d2-943a-8bb16a40c7b5"
      },
      "source": [
        "math.sqrt(mean_squared_error(y_train,train_predict))"
      ],
      "execution_count": 381,
      "outputs": [
        {
          "output_type": "execute_result",
          "data": {
            "text/plain": [
              "141.65453181871698"
            ]
          },
          "metadata": {
            "tags": []
          },
          "execution_count": 381
        }
      ]
    },
    {
      "cell_type": "code",
      "metadata": {
        "id": "JeR9tvn6YNQ2",
        "colab_type": "code",
        "colab": {
          "base_uri": "https://localhost:8080/",
          "height": 34
        },
        "outputId": "23229be6-bffa-48ac-8b1a-cb8103110bf7"
      },
      "source": [
        "math.sqrt(mean_squared_error(y_valid,valid_predict))"
      ],
      "execution_count": 382,
      "outputs": [
        {
          "output_type": "execute_result",
          "data": {
            "text/plain": [
              "121.34112331997287"
            ]
          },
          "metadata": {
            "tags": []
          },
          "execution_count": 382
        }
      ]
    },
    {
      "cell_type": "code",
      "metadata": {
        "id": "nW9gZUngYSyV",
        "colab_type": "code",
        "colab": {
          "base_uri": "https://localhost:8080/",
          "height": 34
        },
        "outputId": "c2c3be27-0971-43d6-85c1-d0353448c8d3"
      },
      "source": [
        "math.sqrt(mean_squared_error(y_test,test_predict))"
      ],
      "execution_count": 383,
      "outputs": [
        {
          "output_type": "execute_result",
          "data": {
            "text/plain": [
              "106.44968715202421"
            ]
          },
          "metadata": {
            "tags": []
          },
          "execution_count": 383
        }
      ]
    },
    {
      "cell_type": "code",
      "metadata": {
        "id": "lbN_EgSAboZE",
        "colab_type": "code",
        "colab": {}
      },
      "source": [
        "lookback = 15\n",
        "trainpredict = numpy.empty_like(DF[:,0]).reshape(-1,1)\n",
        "trainpredict.shape\n",
        "trainpredict[:,:] = numpy.nan\n",
        "trainpredict[lookback:train_size, :] = train_predict"
      ],
      "execution_count": 384,
      "outputs": []
    },
    {
      "cell_type": "code",
      "metadata": {
        "id": "i4efm0TUrhnT",
        "colab_type": "code",
        "colab": {}
      },
      "source": [
        "validpredict = numpy.empty_like(DF[:,0]).reshape(-1,1)\n",
        "validpredict[:,:] = numpy.nan\n",
        "validpredict[train_size + lookback:train_size + valid_size, :] = valid_predict"
      ],
      "execution_count": 385,
      "outputs": []
    },
    {
      "cell_type": "code",
      "metadata": {
        "id": "XMUD-9ncuIGT",
        "colab_type": "code",
        "colab": {}
      },
      "source": [
        "testpredict = numpy.empty_like(DF[:,0]).reshape(-1,1)\n",
        "testpredict[:,:] = numpy.nan\n",
        "testpredict[train_size + valid_size + lookback: -2, :] = test_predict"
      ],
      "execution_count": 386,
      "outputs": []
    },
    {
      "cell_type": "code",
      "metadata": {
        "id": "W6K8XO_6aj8w",
        "colab_type": "code",
        "colab": {
          "base_uri": "https://localhost:8080/",
          "height": 458
        },
        "outputId": "00852c4c-ed15-4d47-e61d-aeb417b22b51"
      },
      "source": [
        "plt.figure(figsize=(20,10))\n",
        "df['Open'].plot()\n",
        "\n",
        "plt.plot(trainpredict)\n",
        "plt.plot(validpredict)\n",
        "plt.plot(testpredict)"
      ],
      "execution_count": 387,
      "outputs": [
        {
          "output_type": "execute_result",
          "data": {
            "text/plain": [
              "[<matplotlib.lines.Line2D at 0x7feaf6d54b38>]"
            ]
          },
          "metadata": {
            "tags": []
          },
          "execution_count": 387
        },
        {
          "output_type": "display_data",
          "data": {
            "image/png": "[encoded data removed]",
            "text/plain": [
              "<Figure size 1440x720 with 1 Axes>"
            ]
          },
          "metadata": {
            "tags": [],
            "needs_background": "light"
          }
        }
      ]
    }
  ]
}